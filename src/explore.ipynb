{
    "cells": [
        {
            "cell_type": "markdown",
            "metadata": {},
            "source": [
                "# Explore here"
            ]
        },
        {
            "cell_type": "code",
            "execution_count": 3,
            "metadata": {},
            "outputs": [
                {
                    "name": "stdout",
                    "output_type": "stream",
                    "text": [
                        "track    : Starboy\n",
                        "popularity    : 94\n",
                        "duration: 3.840883333333333\n",
                        "\n",
                        "track    : Die For You\n",
                        "popularity    : 91\n",
                        "duration: 4.337549999999999\n",
                        "\n",
                        "track    : Popular (with Playboi Carti & Madonna) - Music from the HBO Original Series\n",
                        "popularity    : 93\n",
                        "duration: 3.5911\n",
                        "\n",
                        "track    : Creepin' (with The Weeknd & 21 Savage)\n",
                        "popularity    : 92\n",
                        "duration: 3.692\n",
                        "\n",
                        "track    : Blinding Lights\n",
                        "popularity    : 92\n",
                        "duration: 3.334\n",
                        "\n",
                        "track    : Stargirl Interlude\n",
                        "popularity    : 88\n",
                        "duration: 1.8604333333333334\n",
                        "\n",
                        "track    : Die For You (with Ariana Grande) - Remix\n",
                        "popularity    : 84\n",
                        "duration: 3.88095\n",
                        "\n",
                        "track    : One Of The Girls (with JENNIE, Lily Rose Depp)\n",
                        "popularity    : 90\n",
                        "duration: 4.0780666666666665\n",
                        "\n",
                        "track    : Save Your Tears\n",
                        "popularity    : 89\n",
                        "duration: 3.5937666666666668\n",
                        "\n",
                        "track    : Reminder\n",
                        "popularity    : 89\n",
                        "duration: 3.648\n",
                        "\n",
                        "                                               Track  Popularity  Duration\n",
                        "0                                            Starboy          94  3.840883\n",
                        "1                                        Die For You          91  4.337550\n",
                        "2  Popular (with Playboi Carti & Madonna) - Music...          93  3.591100\n"
                    ]
                },
                {
                    "data": {
                        "image/png": "[encoded data removed]",
                        "text/plain": [
                            "<Figure size 640x480 with 1 Axes>"
                        ]
                    },
                    "metadata": {},
                    "output_type": "display_data"
                }
            ],
            "source": [
                "import os\n",
                "from sqlalchemy import create_engine\n",
                "import pandas as pd\n",
                "from dotenv import load_dotenv\n",
                "import pandas as pd\n",
                "import spotipy\n",
                "from spotipy.oauth2 import SpotifyClientCredentials\n",
                "import matplotlib.pyplot as plt\n",
                "# load the .env file variables\n",
                "load_dotenv()\n",
                "\n",
                "artisturl = '1Xyo4u8uXC1ZmMpatF05PJ'\n",
                "client_credential_manager = SpotifyClientCredentials(client_id=os.getenv(\"CLIENT_ID\"), client_secret=os.getenv(\"CLIENT_SECRET\"))\n",
                "sp = spotipy.Spotify(client_credentials_manager=client_credential_manager)\n",
                "results = sp.artist_top_tracks(artisturl)\n",
                "\n",
                "\n",
                "for track in results['tracks'][:10]:\n",
                "    print('track    : ' + str(track['name']))\n",
                "    print('popularity    : ' + str(track['popularity']))\n",
                "    print('duration: ' + str(track['duration_ms']/1000/60))\n",
                "    print()\n",
                "\n",
                "songs = []\n",
                "for track in results['tracks'][:10]:\n",
                "    song = { 'Track' : str(track['name']),\n",
                "            'Popularity' :  track['popularity'], \n",
                "            'Duration' : track['duration_ms']/1000/60           \n",
                "\n",
                "    }\n",
                "    songs.append(song)\n",
                "\n",
                "step6 = pd.DataFrame(songs[:3])\n",
                "print(step6)\n",
                "\n",
                "x = []\n",
                "y = []\n",
                "for track in results['tracks'][:10]:\n",
                "\n",
                "    x.append(track['popularity'])\n",
                "    y.append(track['duration_ms']/1000/60 )\n",
                "\n",
                "plt.scatter(x, y)\n",
                "plt.show()"
            ]
        }
    ],
    "metadata": {
        "kernelspec": {
            "display_name": "Python 3.8.13 64-bit ('3.8.13')",
            "language": "python",
            "name": "python3"
        },
        "language_info": {
            "codemirror_mode": {
                "name": "ipython",
                "version": 3
            },
            "file_extension": ".py",
            "mimetype": "text/x-python",
            "name": "python",
            "nbconvert_exporter": "python",
            "pygments_lexer": "ipython3",
            "version": "3.11.4"
        },
        "orig_nbformat": 4,
        "vscode": {
            "interpreter": {
                "hash": "110cc1dee26208153f2972f08a2ad52b6a56238dc66d48e87fb757ef2996db56"
            }
        }
    },
    "nbformat": 4,
    "nbformat_minor": 2
}
